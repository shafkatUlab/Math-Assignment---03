{
 "cells": [
  {
   "cell_type": "markdown",
   "metadata": {},
   "source": [
    "#1. Write a program that uses a while loop (not a for loop) to read through a string and print the characters of the string one-by-one on separate lines."
   ]
  },
  {
   "cell_type": "code",
   "execution_count": 1,
   "metadata": {},
   "outputs": [
    {
     "name": "stdout",
     "output_type": "stream",
     "text": [
      "Enter a string: Muhtasir\n",
      "M\n",
      "\n",
      "u\n",
      "\n",
      "h\n",
      "\n",
      "t\n",
      "\n",
      "a\n",
      "\n",
      "s\n",
      "\n",
      "i\n",
      "\n",
      "r\n",
      "\n"
     ]
    }
   ],
   "source": [
    "str = input(\"Enter a string: \")\n",
    "i = 0\n",
    "while(i < len(str)):\n",
    "    print(\"{}\\n\".format(str[i]))\n",
    "    i+=1\n",
    "\n"
   ]
  },
  {
   "cell_type": "markdown",
   "metadata": {},
   "source": [
    "#2. Modify the program above to print out every second character of the string."
   ]
  },
  {
   "cell_type": "code",
   "execution_count": 3,
   "metadata": {},
   "outputs": [
    {
     "name": "stdout",
     "output_type": "stream",
     "text": [
      "Enter a string: muhtasir\n",
      "u\n",
      "\n",
      "t\n",
      "\n",
      "s\n",
      "\n",
      "r\n",
      "\n"
     ]
    }
   ],
   "source": [
    "str = input(\"Enter a string: \")\n",
    "i = 0\n",
    "while(i < len(str)):\n",
    "    if (i+1) % 2 == 0:\n",
    "        print(\"{}\\n\".format(str[i]))\n",
    "    i+=1\n"
   ]
  },
  {
   "cell_type": "markdown",
   "metadata": {},
   "source": [
    "#3. Write a program that asks the user to enter a password. If the user enters the right password, the program should tell them they are logged in to the system. Otherwise, the program should ask them to reenter the password. The user should only get five tries to enter the password, after which point the program should tell them that they are kicked off of the system."
   ]
  },
  {
   "cell_type": "code",
   "execution_count": 4,
   "metadata": {},
   "outputs": [
    {
     "name": "stdout",
     "output_type": "stream",
     "text": [
      "Enter a password: ghjd\n",
      "You have 5 tries left\n",
      "Re-enter your password: wfr\n",
      "You have 4 tries left\n",
      "Re-enter your password: shafkat\n",
      "You are logged in\n"
     ]
    }
   ],
   "source": [
    "password = \"shafkat\"\n",
    "for x in range(8):\n",
    "    if x == 0:\n",
    "        str = input(\"Enter a password: \")\n",
    "    else:\n",
    "        str = input(\"Re-enter your password: \")\n",
    "    if str == password:\n",
    "        print(\"You are logged in\")\n",
    "        break\n",
    "    else:\n",
    "        if 5 - x >= 0:\n",
    "            print(\"You have {} tries left\".format(5-x))\n",
    "if x == 6:\n",
    "    print(\"You have been kicked out of the system\")\n"
   ]
  },
  {
   "cell_type": "markdown",
   "metadata": {},
   "source": [
    "4. Recall that, given a string s , s.index( ' x ' ) returns the index of the first x in s and an error if there is no x.\n",
    "(a) Write a program that asks the user for a string and a letter. Using a while loop, the program should print the index of the first occurrence of that letter and a message if the string does not contain the letter.\n"
   ]
  },
  {
   "cell_type": "code",
   "execution_count": null,
   "metadata": {},
   "outputs": [
    {
     "name": "stdout",
     "output_type": "stream",
     "text": [
      "Enter a String: muhtasir\n",
      "Enter a Letter: s\n",
      "\n",
      "First occurrence of s is found at index: 5 \n",
      "\n",
      "Enter a String: shafkat\n",
      "Enter a Letter: z\n",
      "\n",
      "The String does not contain the Letter\n",
      "\n"
     ]
    }
   ],
   "source": [
    "index = 0 \n",
    "while index>=0:\n",
    "    s = input(\"Enter a String: \")\n",
    "    letter = input(\"Enter a Letter: \") \n",
    "    if letter in s: \n",
    "        find = s.index(letter) \n",
    "        print (\"\\nFirst occurrence of\",letter,\"is found at index:\",find,\"\\n\" )\n",
    "    else: \n",
    "        print (\"\\nThe String does not contain the Letter\\n\") \n",
    "    index = index + 1\n",
    "\n"
   ]
  },
  {
   "cell_type": "code",
   "execution_count": null,
   "metadata": {},
   "outputs": [],
   "source": [
    "(b) Write the above program using a for/break loop instead of a while loop."
   ]
  },
  {
   "cell_type": "code",
   "execution_count": 2,
   "metadata": {},
   "outputs": [
    {
     "name": "stdout",
     "output_type": "stream",
     "text": [
      "Enter a String: Muhtasir\n",
      "Enter a Letter: r\n",
      "\n",
      "First occurrence of r is found at index: 7 \n",
      "\n"
     ]
    }
   ],
   "source": [
    "s = input(\"Enter a String: \") \n",
    "letter = input(\"Enter a Letter: \")\n",
    "for i in range(1): \n",
    "    if letter in s:\n",
    "        find = s.index(letter) \n",
    "        print (\"\\nFirst occurrence of\",letter,\"is found at index:\",find,\"\\n\") \n",
    "        break \n",
    "    else: \n",
    "        print (\"\\nThe String does not contain the Letter\\n\") \n"
   ]
  },
  {
   "cell_type": "markdown",
   "metadata": {},
   "source": [
    "#5. The GCD (greatest common divisor) of two numbers is the largest number that both are di- visible by. For instance, gcd (18, 42) is 6 because the largest number that both 18 and 42 are divisible by is 6. Write a program that asks the user for two numbers and computes their gcd. Shown below is a way to compute the GCD, called Euclid’s Algorithm.• First compute the remainder of dividing the larger number by the smaller number• Next, replace the larger number with the smaller number and the smaller number with the remainder.• Repeat this process until the smaller number is 0. The GCD is the last value of the larger number."
   ]
  },
  {
   "cell_type": "code",
   "execution_count": 11,
   "metadata": {},
   "outputs": [
    {
     "name": "stdout",
     "output_type": "stream",
     "text": [
      "48\n",
      "42\n",
      "6\n"
     ]
    }
   ],
   "source": [
    "num1 =int(input())\n",
    "num2 =int(input())\n",
    "\n",
    "x = 1\n",
    "gcd = 0\n",
    "\n",
    "while x <= num1 and x <= num2:\n",
    "    if num1 % x == 0 and num2 % x == 0:\n",
    "        gcd = x\n",
    "    x+=1\n",
    "print(gcd)\n",
    "\n"
   ]
  },
  {
   "cell_type": "markdown",
   "metadata": {},
   "source": [
    "#6. A 4000-year old method to compute the square root of 5 is as follows: Start with an initial guess, say 1. Then compute(1 + 5/1 )/2 = 3Next, take that 3 and replace the 1’s in the previous formula with 3’s . This gives(3 + 5/3 )/2 = 7/3 = 2.33Next replace the 3 in the previous formula with 7/3 . This gives(7/3 + 5/(7/3) )/2 = 47/22 = 2.24If you keep doing this process of computing the formula, getting a result, and plugging it back in, the values will eventually get closer and closer to 5 . This method works for numbers other than 5. Write a program that asks the user for a number and uses this method to estimate the square root of the number correct to within 10^( −10) . The estimate will be correct to within 10^( −10) when the absolute value of the difference between consecutive values is less than 10^(−10) ."
   ]
  },
  {
   "cell_type": "code",
   "execution_count": 12,
   "metadata": {},
   "outputs": [
    {
     "name": "stdout",
     "output_type": "stream",
     "text": [
      "85\n",
      "9.22\n"
     ]
    }
   ],
   "source": [
    "num = int(input())\n",
    "i = 1\n",
    "while i >= 0:\n",
    "    x = i\n",
    "    i = (i + num/i)/2\n",
    "    if x == i:\n",
    "        break\n",
    "print(\"%.2f\"%i)\n"
   ]
  },
  {
   "cell_type": "markdown",
   "metadata": {},
   "source": [
    "#7. Write a program that starts with an 5 × 5 list of zeroes and randomly changes exactly ten of those zeroes to ones."
   ]
  },
  {
   "cell_type": "code",
   "execution_count": 13,
   "metadata": {},
   "outputs": [
    {
     "name": "stdout",
     "output_type": "stream",
     "text": [
      "0 1 1 0 1 \n",
      "1 1 0 1 0 \n",
      "1 0 1 0 1 \n",
      "0 1 0 1 1 \n",
      "1 0 1 1 0 \n"
     ]
    }
   ],
   "source": [
    "import random\n",
    "myList = []\n",
    "randomPosition = []\n",
    "for i in range(25):\n",
    "    myList.append(0)\n",
    "\n",
    "for i in range(10):\n",
    "    x = random.randrange(1, 25)\n",
    "    while randomPosition.count(x) != 0:\n",
    "        x = random.randrange(1, 25)\n",
    "    randomPosition.append(x)\n",
    "    myList[x] = 1\n",
    "k = 0\n",
    "for i in range (5):\n",
    "    for j in range(5):\n",
    "        if i+j == randomPosition[k]:\n",
    "            print(myList[k], end=\" \")\n",
    "            k+=1\n",
    "            continue\n",
    "        print(myList[i+j], end=\" \")\n",
    "    print()\n"
   ]
  },
  {
   "cell_type": "markdown",
   "metadata": {},
   "source": [
    "#8. Write a program in which you have a list that contains seven integers that can be 0 or 1. Find the first nonzero entry in the list and change it to a 1. If there are no nonzero entries, print a message saying so."
   ]
  },
  {
   "cell_type": "code",
   "execution_count": 1,
   "metadata": {},
   "outputs": [
    {
     "name": "stdout",
     "output_type": "stream",
     "text": [
      "Enter int contain 0 or 1 1\n",
      "Enter int contain 0 or 1 1\n",
      "Enter int contain 0 or 1 1\n",
      "Enter int contain 0 or 1 1\n",
      "Enter int contain 0 or 1 1\n",
      "Enter int contain 0 or 1 1\n",
      "Enter int contain 0 or 1 0\n",
      "Input List [1, 1, 1, 1, 1, 1, 0]\n",
      "Output List [1, 1, 1, 1, 1, 1, 0]\n"
     ]
    }
   ],
   "source": [
    "my_list=[0]*7 #creating List of seven intigers\n",
    "\n",
    "count=0\n",
    "while count<7:\n",
    "    my_list[count]=input('Enter int contain 0 or 1 ')\n",
    "    my_list[count]=int(my_list[count])\n",
    "    count=count+1\n",
    "print('Input List',my_list)\n",
    "\n",
    "count=0\n",
    "check=0\n",
    "while count<7 and check==0:\n",
    "    if my_list[count]!=0:\n",
    "        my_list[count]=1\n",
    "        check=1    #finding first non zero int\n",
    "    count=count+1\n",
    "\n",
    "if check==1:\n",
    "    print('Output List',my_list)\n",
    "else:\n",
    "    print('No Non Zero int in the List')\n"
   ]
  },
  {
   "cell_type": "markdown",
   "metadata": {},
   "source": [
    "#9. Write a program to play the following simple game. The player starts with 100.𝑂𝑛𝑒𝑎𝑐ℎ𝑡𝑢𝑟𝑛𝑎𝑐𝑜𝑖𝑛𝑖𝑠𝑓𝑙𝑖𝑝𝑝𝑒𝑑𝑎𝑛𝑑𝑡ℎ𝑒𝑝𝑙𝑎𝑦𝑒𝑟ℎ𝑎𝑠𝑡𝑜𝑔𝑢𝑒𝑠𝑠ℎ𝑒𝑎𝑑𝑠𝑜𝑟𝑡𝑎𝑖𝑙𝑠.𝑇ℎ𝑒𝑝𝑙𝑎𝑦𝑒𝑟𝑤𝑖𝑛𝑠9 for each correct guess and loses 10𝑓𝑜𝑟𝑒𝑎𝑐ℎ𝑖𝑛𝑐𝑜𝑟𝑟𝑒𝑐𝑡𝑔𝑢𝑒𝑠𝑠.𝑇ℎ𝑒𝑔𝑎𝑚𝑒𝑒𝑛𝑑𝑠𝑒𝑖𝑡ℎ𝑒𝑟𝑤ℎ𝑒𝑛𝑡ℎ𝑒𝑝𝑙𝑎𝑦𝑒𝑟𝑟𝑢𝑛𝑠𝑜𝑢𝑡𝑜𝑓𝑚𝑜𝑛𝑒𝑦𝑜𝑟𝑔𝑒𝑡𝑠𝑡𝑜200."
   ]
  },
  {
   "cell_type": "code",
   "execution_count": null,
   "metadata": {},
   "outputs": [
    {
     "name": "stdout",
     "output_type": "stream",
     "text": [
      "Starts with $100 and wins when $200\n",
      "write \"h\" for head or \"t\" for tail h\n",
      "Wrong Guess... New Balance 90\n",
      "write \"h\" for head or \"t\" for tail h\n",
      "Right Guess!!! New Balance 99\n",
      "write \"h\" for head or \"t\" for tail h\n",
      "Right Guess!!! New Balance 108\n",
      "write \"h\" for head or \"t\" for tail h\n",
      "Wrong Guess... New Balance 98\n",
      "write \"h\" for head or \"t\" for tail h\n",
      "Wrong Guess... New Balance 88\n",
      "write \"h\" for head or \"t\" for tail h\n",
      "Right Guess!!! New Balance 97\n",
      "write \"h\" for head or \"t\" for tail h\n",
      "Wrong Guess... New Balance 87\n",
      "write \"h\" for head or \"t\" for tail h\n",
      "Right Guess!!! New Balance 96\n",
      "write \"h\" for head or \"t\" for tail h\n",
      "Wrong Guess... New Balance 86\n",
      "write \"h\" for head or \"t\" for tail h\n",
      "Right Guess!!! New Balance 95\n",
      "write \"h\" for head or \"t\" for tail ht\n",
      "write \"h\" for head or \"t\" for tail h\n",
      "Wrong Guess... New Balance 85\n",
      "write \"h\" for head or \"t\" for tail t\n",
      "Right Guess!!! New Balance 94\n",
      "write \"h\" for head or \"t\" for tail h\n",
      "Wrong Guess... New Balance 84\n",
      "write \"h\" for head or \"t\" for tail ht\n",
      "write \"h\" for head or \"t\" for tail h\n",
      "Right Guess!!! New Balance 93\n",
      "write \"h\" for head or \"t\" for tail t\n",
      "Right Guess!!! New Balance 102\n",
      "write \"h\" for head or \"t\" for tail h\n",
      "Right Guess!!! New Balance 111\n",
      "write \"h\" for head or \"t\" for tail th\n",
      "write \"h\" for head or \"t\" for tail t\n",
      "Right Guess!!! New Balance 120\n",
      "write \"h\" for head or \"t\" for tail h\n",
      "Wrong Guess... New Balance 110\n",
      "write \"h\" for head or \"t\" for tail t\n",
      "Wrong Guess... New Balance 100\n",
      "write \"h\" for head or \"t\" for tail h\n",
      "Wrong Guess... New Balance 90\n",
      "write \"h\" for head or \"t\" for tail t\n",
      "Wrong Guess... New Balance 80\n",
      "write \"h\" for head or \"t\" for tail t\n",
      "Right Guess!!! New Balance 89\n",
      "write \"h\" for head or \"t\" for tail t\n",
      "Wrong Guess... New Balance 79\n",
      "write \"h\" for head or \"t\" for tail t\n",
      "Wrong Guess... New Balance 69\n",
      "write \"h\" for head or \"t\" for tail t\n",
      "Wrong Guess... New Balance 59\n",
      "write \"h\" for head or \"t\" for tail t\n",
      "Right Guess!!! New Balance 68\n",
      "write \"h\" for head or \"t\" for tail t\n",
      "Right Guess!!! New Balance 77\n",
      "write \"h\" for head or \"t\" for tail t\n",
      "Right Guess!!! New Balance 86\n",
      "write \"h\" for head or \"t\" for tail h\n",
      "Right Guess!!! New Balance 95\n",
      "write \"h\" for head or \"t\" for tail h\n",
      "Wrong Guess... New Balance 85\n",
      "write \"h\" for head or \"t\" for tail h\n",
      "Wrong Guess... New Balance 75\n",
      "write \"h\" for head or \"t\" for tail h\n",
      "Right Guess!!! New Balance 84\n",
      "write \"h\" for head or \"t\" for tail ht\n",
      "write \"h\" for head or \"t\" for tail t\n",
      "Wrong Guess... New Balance 74\n",
      "write \"h\" for head or \"t\" for tail h\n",
      "Right Guess!!! New Balance 83\n",
      "write \"h\" for head or \"t\" for tail t\n",
      "Wrong Guess... New Balance 73\n",
      "write \"h\" for head or \"t\" for tail h\n",
      "Right Guess!!! New Balance 82\n",
      "write \"h\" for head or \"t\" for tail t\n",
      "Wrong Guess... New Balance 72\n",
      "write \"h\" for head or \"t\" for tail h\n",
      "Wrong Guess... New Balance 62\n",
      "write \"h\" for head or \"t\" for tail h\n",
      "Right Guess!!! New Balance 71\n",
      "write \"h\" for head or \"t\" for tail t\n",
      "Wrong Guess... New Balance 61\n",
      "write \"h\" for head or \"t\" for tail h\n",
      "Right Guess!!! New Balance 70\n",
      "write \"h\" for head or \"t\" for tail t\n",
      "Right Guess!!! New Balance 79\n",
      "write \"h\" for head or \"t\" for tail h\n",
      "Wrong Guess... New Balance 69\n",
      "write \"h\" for head or \"t\" for tail t\n",
      "Right Guess!!! New Balance 78\n",
      "write \"h\" for head or \"t\" for tail h\n",
      "Wrong Guess... New Balance 68\n",
      "write \"h\" for head or \"t\" for tail t\n",
      "Wrong Guess... New Balance 58\n",
      "write \"h\" for head or \"t\" for tail h\n",
      "Right Guess!!! New Balance 67\n",
      "write \"h\" for head or \"t\" for tail h\n",
      "Wrong Guess... New Balance 57\n",
      "write \"h\" for head or \"t\" for tail t\n",
      "Right Guess!!! New Balance 66\n",
      "write \"h\" for head or \"t\" for tail h\n",
      "Wrong Guess... New Balance 56\n"
     ]
    }
   ],
   "source": [
    "balance=100 \n",
    "\n",
    "def Guess(ans,my_balance):\n",
    "    import random\n",
    "    z=random.randint(0,1)\n",
    "    if ans==z:\n",
    "        my_balance=my_balance+9\n",
    "        print('Right Guess!!! New Balance',my_balance)\n",
    "    else:\n",
    "        my_balance=my_balance-10\n",
    "        print('Wrong Guess... New Balance',my_balance)\n",
    "    return my_balance\n",
    "\n",
    "print('Starts with $100 and wins when $200')\n",
    "while balance>0 and balance<200:\n",
    "    s=input('write \"h\" for head or \"t\" for tail ')\n",
    "    if s=='h':\n",
    "        check=Guess(0,balance)  \n",
    "    elif s=='t':\n",
    "        check=Guess(1,balance) \n",
    "    balance=check\n",
    "\n",
    "if balance>=200:          \n",
    "    print('Congrats!!!')\n",
    "else:\n",
    "    print('Better Luck Next time...')"
   ]
  },
  {
   "cell_type": "markdown",
   "metadata": {},
   "source": [
    "#10. Randomly generate a 6 × 6 list that has exactly 12 ones placed in random locations in the list. The rest of the entries should be zeroes."
   ]
  },
  {
   "cell_type": "code",
   "execution_count": 4,
   "metadata": {},
   "outputs": [
    {
     "name": "stdout",
     "output_type": "stream",
     "text": [
      "0 0 1 0 0 \n",
      "1 1 0 0 0 \n",
      "0 0 0 0 0 \n",
      "0 0 0 1 0 \n",
      "1 0 0 0 0 \n",
      "1 0 1 1 1 \n"
     ]
    }
   ],
   "source": [
    "import random\n",
    "positions = []\n",
    "for x in range(12):\n",
    "    randomNumber = random.randrange(36)\n",
    "    while positions.count(randomNumber) != 0:\n",
    "        randomNumber = random.randrange(36)\n",
    "    positions.append(randomNumber)\n",
    "    positions.sort()\n",
    "\n",
    "k = 0\n",
    "j = -1\n",
    "for x in range(6):\n",
    "    for y in range(5):\n",
    "        j+=1\n",
    "        if j == positions[k]:\n",
    "            print(\"1\", end=\" \")\n",
    "            k+=1\n",
    "            continue\n",
    "        print(\"0\", end=\" \")\n",
    "    print()\n"
   ]
  },
  {
   "cell_type": "markdown",
   "metadata": {},
   "source": [
    "#11. Randomly generate a 9 × 9 list where the entries are integers between 1 and 9 with no repeat entries in any row or in any column."
   ]
  },
  {
   "cell_type": "code",
   "execution_count": 1,
   "metadata": {},
   "outputs": [
    {
     "name": "stdout",
     "output_type": "stream",
     "text": [
      "3 9 5 7 6 2 8 1 4 \n",
      "6 4 5 2 9 8 1 7 3 \n",
      "3 1 5 2 7 9 8 6 4 \n",
      "1 3 7 6 4 9 2 8 5 \n",
      "8 4 7 2 3 5 1 9 6 \n",
      "5 9 1 6 3 7 8 4 2 \n",
      "1 6 7 3 5 8 9 2 4 \n",
      "5 8 1 4 2 6 3 7 9 \n",
      "8 3 1 5 7 6 9 4 2 \n"
     ]
    }
   ],
   "source": [
    "import random\n",
    "positions = []\n",
    "for x in range(9):\n",
    "    for y in range(9):\n",
    "        f = random.randrange(9)+1\n",
    "        while positions.count(f)!=0:\n",
    "            f = random.randrange(9)+1\n",
    "        positions.append(f)\n",
    "        print(f, end=\" \")\n",
    "    positions.clear()\n",
    "    print()\n"
   ]
  },
  {
   "cell_type": "markdown",
   "metadata": {},
   "source": [
    "#12. Write a program that repeatedly asks the user to enter product names and prices. Store all of these in a dictionary whose keys are the product names and whose values are the prices. When the user is done entering products and prices, allow them to repeatedly enter a product name and print the corresponding price or a message if the product is not in the dictionary."
   ]
  },
  {
   "cell_type": "code",
   "execution_count": 2,
   "metadata": {},
   "outputs": [
    {
     "name": "stdout",
     "output_type": "stream",
     "text": [
      "Product name: Book\n",
      "Price: 170\n",
      "Product name: done\n",
      "What is the price of Book\n",
      "170\n"
     ]
    }
   ],
   "source": [
    "dict = {}\n",
    "\n",
    "while True:\n",
    "    x = input(\"Product name: \")\n",
    "    if x == \"done\":\n",
    "        break\n",
    "    y = input(\"Price: \")\n",
    "    dict[x] = y\n",
    "while True:\n",
    "    x = input(\"What is the price of \")\n",
    "    print(dict.get(x))\n",
    "    break\n"
   ]
  },
  {
   "cell_type": "markdown",
   "metadata": {},
   "source": [
    "#13. Using the dictionary created in the previous problem, allow the user to enter a dollar amount and print out all the products whose price is less than that amount."
   ]
  },
  {
   "cell_type": "code",
   "execution_count": 3,
   "metadata": {},
   "outputs": [
    {
     "name": "stdout",
     "output_type": "stream",
     "text": [
      "Enter Product Name or press 'e' to exit\n",
      "book\n",
      "Enter product Price\n",
      "170\n",
      "Enter Product Name or press 'e' to exit\n",
      "notebook\n",
      "Enter product Price\n",
      "70\n",
      "Enter Product Name or press 'e' to exit\n",
      "pen\n",
      "Enter product Price\n",
      "10\n",
      "Enter Product Name or press 'e' to exit\n",
      "e\n",
      "Enter the price of the product  you want to find or press 'e' to exit\n",
      "80\n",
      "\n",
      "The price of notebook is 70$ (Dollars)\n",
      "\n",
      "\n",
      "The price of pen is 10$ (Dollars)\n",
      "\n",
      "Enter the price of the product  you want to find or press 'e' to exit\n",
      "e\n"
     ]
    }
   ],
   "source": [
    "dictonary = {\n",
    "        \n",
    "    }\n",
    "while(True):\n",
    "    \n",
    "    x = input(\"Enter Product Name or press 'e' to exit\\n\")\n",
    "    if(x == \"e\"):\n",
    "        \n",
    "        break\n",
    "    else:\n",
    "        y = int(input(\"Enter product Price\\n\"))\n",
    "        dictonary[x] = y\n",
    "\n",
    "\n",
    "while(True):\n",
    "    z = input(\"Enter the price of the product  you want to find or press 'e' to exit\\n\")\n",
    "    if(z == \"e\"):\n",
    "\n",
    "        break\n",
    "    else:\n",
    "        for i in dictonary:\n",
    "            if(dictonary[i]<int(z)):\n",
    "                print(\"\\nThe price of \"+i+\" is \"+ str(dictonary[i])+\"$ (Dollars)\\n\")\n"
   ]
  },
  {
   "cell_type": "markdown",
   "metadata": {},
   "source": [
    "#14. Write a program that uses a dictionary that contains ten user names and passwords. The program should ask the user to enter their username and password. If the username is not in the dictionary, the program should indicate that the person is not a valid user of the system. If the username is in the dictionary, but the user does not enter the right password, the program should say that the password is invalid. If the password is correct, then the program should tell the user that they are now logged in to the system."
   ]
  },
  {
   "cell_type": "code",
   "execution_count": 5,
   "metadata": {},
   "outputs": [
    {
     "name": "stdout",
     "output_type": "stream",
     "text": [
      "Enter User Name: Tipu\n",
      "Enter Password: 1162015\n",
      "Login Successfully !!!\n"
     ]
    }
   ],
   "source": [
    "dictonary={'Emon':1222, 'Sharker': 16910, 'Sayeed': 191201, \n",
    "     'Zaman': 149198114, 'Alamin': 818941525, 'Mahmud': 182129, 'Towkir': 1492620, \n",
    "     'Majed': 121139, 'Tipu': 1162015, 'Shohag': 201519}\n",
    "\n",
    "user_name=input('Enter User Name: ')\n",
    "password=input('Enter Password: ')\n",
    "password=int(password)\n",
    "               # string comparison isn't working.   have to type cast in int\n",
    "if user_name in dictonary:\n",
    "    if int(dictonary[user_name])==password:\n",
    "        print('Login Successfully !!!')\n",
    "    else:\n",
    "        print('Invalid Password...')\n",
    "else:\n",
    "    print('You are Not a valid User...')\n"
   ]
  },
  {
   "cell_type": "markdown",
   "metadata": {},
   "source": [
    "#15. Below are the notes used in music: C C# D D# E F F# G G# A A# B The notes for the C major chord are C, E, G. A mathematical way to get this is that E is 4 steps past C and G is 7 steps past C. This works for any base. For example, the notes for D major are D, F#, A. We can represent the major chord steps as a list with two elements: [4,7] . The corresponding lists for some other chord types are shown below:\n",
    "\n",
    "Minor [3,7]\n",
    "\n",
    "Augmented fifth [4,8]\n",
    "\n",
    "Minor fifth [4,6]\n",
    "\n",
    "Major sixth [4,7,9]\n",
    "\n",
    "Minor sixth [3,7,9]\n",
    "\n",
    "Dominant seventh [4,7,10]\n",
    "\n",
    "Minor seventh [3,7,10]\n",
    "\n",
    "Major seventh [4,7,11]\n",
    "\n",
    "Diminished seventh [3,6,10]\n",
    "\n",
    "Write a program that asks the user for the key and the chord type and prints out the notes of the chord. Use a dictionary whose keys are the (musical) keys and whose values are the lists of steps."
   ]
  },
  {
   "cell_type": "code",
   "execution_count": 6,
   "metadata": {},
   "outputs": [
    {
     "name": "stdout",
     "output_type": "stream",
     "text": [
      "Cord types are : Minor, Augmented fifth, Minor fifth, Major sixth, Minor sixth\n",
      " \t\tDominant seventh, Minor seventh, Major seventh, Diminished seventh\n",
      "Enter Key: E\n",
      "Enter Cord Type: Minor sixth\n",
      "E G C D\n"
     ]
    }
   ],
   "source": [
    "my_note=['C', 'C#', 'D', 'D#', 'E', 'F', 'F#', 'G', 'G#', 'A', 'A#', 'B']\n",
    "\n",
    "print('Cord types are : Minor, Augmented fifth, Minor fifth, Major sixth, Minor sixth\\n \\t\\tDominant seventh, Minor seventh, Major seventh, Diminished seventh')\n",
    "key=input('Enter Key: ')\n",
    "cord_type=input('Enter Cord Type: ')\n",
    "\n",
    "i=0\n",
    "while i<12:\n",
    "    if my_note[i]==key:\n",
    "        break\n",
    "    i=i+1\n",
    "\n",
    "if cord_type=='Minor':\n",
    "    print(my_note[i],my_note[i+3],my_note[(i+7)%11])\n",
    "elif cord_type=='Augmented fifth':\n",
    "    print(my_note[i],my_note[i+4],my_note[(i+8)%11])\n",
    "elif cord_type=='Minor fifth':\n",
    "    print(my_note[i],my_note[i+4],my_note[(i+6)%11])\n",
    "elif cord_type=='Major sixth':\n",
    "    print(my_note[i],my_note[i+4],my_note[(i+7)%11], my_note[(i+9)%11])\n",
    "elif cord_type=='Dominant seventh':\n",
    "    print(my_note[i],my_note[i+4],my_note[(i+7)%11], my_note[(i+10)%11])\n",
    "elif cord_type=='Minor seventh':\n",
    "    print(my_note[i],my_note[i+3],my_note[(i+7)%11], my_note[(i+10)%11])\n",
    "elif cord_type=='Major seventh':\n",
    "    print(my_note[i],my_note[i+4],my_note[(i+7)%11],my_note[(i+11)%11])\n",
    "elif cord_type=='Diminished seventh':\n",
    "    print(my_note[i],my_note[i+3],my_note[(i+6)%11], my_note[(i+10)%11])\n",
    "elif cord_type=='Minor sixth':\n",
    "    print(my_note[i],my_note[i+3],my_note[(i+7)%11], my_note[(i+9)%11])"
   ]
  },
  {
   "cell_type": "markdown",
   "metadata": {},
   "source": [
    "#16 Suppose you are given the following list of strings: L = [ ' aabaabac ' , ' cabaabca ' , ' aaabbcba ' , ' aabacbab ' , ' acababba ' ]\n",
    "\n",
    "Patterns like this show up in many places, including DNA sequencing. The user has a string of their own with only some letters filled in and the rest as asterisks. An example is aa** . The user would like to know which of the strings in the list fit with their pattern. In the example just given, the matching strings are the first and fourth. One way to solve this problem is to create a dictionary whose keys are the indices in the user’s string of the non-asterisk characters and whose values are those characters. Write a program implementing this approach (or some other approach) to find the strings that match a user-entered string."
   ]
  },
  {
   "cell_type": "code",
   "execution_count": null,
   "metadata": {},
   "outputs": [
    {
     "name": "stdout",
     "output_type": "stream",
     "text": [
      "Enter string with one * :aaabbcba\n"
     ]
    }
   ],
   "source": [
    "L = [ 'aabaabac' , 'cabaabca' , 'aaabbcba' , 'aabacbab' , 'acababba' ] \n",
    "\n",
    "s=input(\"Enter string with one * :\")\n",
    "\n",
    "i=0\n",
    "check=0\n",
    "while i<5:\n",
    "    check=0\n",
    "    m=0\n",
    "    if s[m]==L[i][m]:\n",
    "        check=1\n",
    "        m=m+1\n",
    "        while m<len(s)-1 and check==1:\n",
    "            if s[m]!=L[i][m]:\n",
    "                check=0\n",
    "        m=m+1\n",
    "    if check==1:\n",
    "        print(L[i])\n",
    "    i=i+1\n",
    "\n",
    "if check==0:\n",
    "    print('No Match')"
   ]
  },
  {
   "cell_type": "markdown",
   "metadata": {},
   "source": [
    "#17. Dictionaries provide a convenient way to store structured data. Here is an example dictionary:d=[{ ' name ' : ' Todd ' , ' phone ' : ' 555-1414 ' , ' email ' : ' todd@mail.net ' }, { ' name ' : ' Helga ' , ' phone ' : ' 555-1618 ' , ' email ' : ' helga@mail.net ' }, { ' name ' : ' Princess ' , ' phone ' : ' 555-3141 ' , ' email ' : '' }, { ' name ' : ' LJ ' , ' phone ' : ' 555-2718 ' , ' email ' : ' lj@mail.net ' }]Write a program that reads through any dictionary like this and prints the following:(a) All the users whose phone number ends in an 8(b) All the users that don’t have an email address listed"
   ]
  },
  {
   "cell_type": "code",
   "execution_count": 5,
   "metadata": {},
   "outputs": [
    {
     "name": "stdout",
     "output_type": "stream",
     "text": [
      "Helga\n",
      "Princess\n"
     ]
    }
   ],
   "source": [
    "d = [{'name' : 'Todd', 'phone' : '555-1414', 'email' : 'todd@gmail.com'},{'name' : 'Helga', 'phone' : '555-1618', 'email' : 'helga@gmail.com'},{'name' : 'Princess', 'phone' : '555-2716', 'email' : ' '}]\n",
    "for x in d:\n",
    "    for y in x:\n",
    "        str = x.get('phone')\n",
    "        if str[len(str)-1] == '8':\n",
    "            print(x.get('name'))\n",
    "            break\n",
    "for x in d:\n",
    "    for y in x:\n",
    "        str = x.get('email')\n",
    "        if str[len(str)-1] == ' ':\n",
    "            print(x.get('name'))\n",
    "            break\n"
   ]
  },
  {
   "cell_type": "markdown",
   "metadata": {},
   "source": [
    "#18. The keys in a dictionary are guaranteed to be unique, but the values are not. Write a function called count_values that takes a single dictionary as an argument and returns the number of dis- tinct values it contains. Given the input {’red’:1, ’green’:1, ’blue’:2} , for example, it would return 2.\n",
    "\n",
    "\n"
   ]
  },
  {
   "cell_type": "code",
   "execution_count": 3,
   "metadata": {},
   "outputs": [
    {
     "name": "stdout",
     "output_type": "stream",
     "text": [
      "2\n"
     ]
    }
   ],
   "source": [
    "d = {'red' : '1', 'blue' : '1', 'green' : '2'}\n",
    "\n",
    "def count_values(**d):\n",
    "    myList = []\n",
    "    for x in d:\n",
    "        myList.append(d.get(x))\n",
    "    myList.sort()\n",
    "    y = 1\n",
    "    x = 0\n",
    "    while x < len(myList)-1:\n",
    "        if myList[x+1] != myList[x]:\n",
    "            y+=1\n",
    "        x+=1\n",
    "    print(y)\n",
    "\n",
    "count_values(**d)\n"
   ]
  },
  {
   "cell_type": "markdown",
   "metadata": {},
   "source": [
    "#19 .Using the card dictionary from earlier in this chapter, create a simple card game that deals two players three cards each. The player with the highest card wins. If there is a tie, then compare the second highest card and, if necessary, the third highest. If all three cards have the same value, then the game is a draw."
   ]
  },
  {
   "cell_type": "code",
   "execution_count": 1,
   "metadata": {},
   "outputs": [
    {
     "name": "stdout",
     "output_type": "stream",
     "text": [
      "Player One:\n",
      "{' value ': 8, ' suit ': ' clubs '}\n",
      "{' value ': 8, ' suit ': ' diamonds '}\n",
      "{' value ': 14, ' suit ': ' clubs '}\n",
      "[8, 8, 14]\n",
      "\n",
      "Player Two:\n",
      "{' value ': 6, ' suit ': ' hearts '}\n",
      "{' value ': 7, ' suit ': ' diamonds '}\n",
      "{' value ': 9, ' suit ': ' clubs '}\n",
      "[6, 7, 9]\n",
      "\n",
      "Highest Value of Player One  14\n",
      "\n",
      "Higest Value of Player Two:  9\n",
      "\n",
      "Player One won\n",
      "\n"
     ]
    }
   ],
   "source": [
    "import random\n",
    "import operator\n",
    "deck = [{ ' value ' :i, ' suit ' :c}\n",
    "for c in [ ' spades ' , ' clubs ' , ' hearts ' , ' diamonds ' ]\n",
    "for i in range(2,15)]\n",
    "deck1 = {}\n",
    "deck2 = {}\n",
    "arr1 = [None]*3\n",
    "arr2 = [None]*3\n",
    "\n",
    "random.shuffle(deck)\n",
    "#for player one\n",
    "print(\"Player One:\")\n",
    "for i in range(0,3):\n",
    "    deck1 = deck[i]\n",
    "    print(deck[i])\n",
    "    x = max(deck1)\n",
    "    arr1[i] = deck1[x]\n",
    "\n",
    "print(arr1)    \n",
    "print(\"\\nPlayer Two:\")\n",
    "#for player two\n",
    "\n",
    "random.shuffle(deck)\n",
    "for i in range(0,3):\n",
    "    deck2 = deck[i]\n",
    "    print(deck[i])\n",
    "    y = max(deck2)\n",
    "    arr2[i] = deck2[y]\n",
    "    \n",
    "print(arr2)\n",
    "\n",
    "firstMax = max(arr1)\n",
    "seccondMax = max(arr2)\n",
    "print(\"\\nHighest Value of Player One \",firstMax)\n",
    "print(\"\\nHigest Value of Player Two: \",seccondMax)\n",
    "if(firstMax==seccondMax):\n",
    "    print(\"\\nGame Tie\\n\")\n",
    "elif(firstMax>seccondMax):\n",
    "    print(\"\\nPlayer One won\\n\")\n",
    "elif(seccondMax>firstMax):\n",
    "    print(\"\\nPlayer Two Won\\n\")"
   ]
  }
 ],
 "metadata": {
  "kernelspec": {
   "display_name": "Python 3",
   "language": "python",
   "name": "python3"
  },
  "language_info": {
   "codemirror_mode": {
    "name": "ipython",
    "version": 3
   },
   "file_extension": ".py",
   "mimetype": "text/x-python",
   "name": "python",
   "nbconvert_exporter": "python",
   "pygments_lexer": "ipython3",
   "version": "3.7.1"
  }
 },
 "nbformat": 4,
 "nbformat_minor": 2
}
